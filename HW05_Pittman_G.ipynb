{
 "cells": [
  {
   "cell_type": "markdown",
   "metadata": {},
   "source": [
    "## Exercise 1"
   ]
  },
  {
   "cell_type": "code",
   "execution_count": 3,
   "metadata": {
    "collapsed": true
   },
   "outputs": [],
   "source": [
    "def hRatio(r1, p1, r2, p2):\n",
    "    return (r2**2 / r1**2) * (p1 / p2)"
   ]
  },
  {
   "cell_type": "code",
   "execution_count": 5,
   "metadata": {},
   "outputs": [
    {
     "name": "stdout",
     "output_type": "stream",
     "text": [
      "Sun/Jupiter: 7653\n",
      "Sun/Neptune: 19073\n",
      "Jupiter/Io: 8\n",
      "Jupiter/Callisto: 16\n",
      "Saturn/Titan: 11\n",
      "Uranus/Oberon: 22\n"
     ]
    }
   ],
   "source": [
    "sunJupiter = hRatio(7e8, 2.4e6, 7.5e11, 3.6e8)\n",
    "sunNeptune = hRatio(7e8, 2.4e6, 4.5e12, 5.2e9)\n",
    "jupiterIo = hRatio(7e7, 3.5e4, 4.2e8, 1.5e5)\n",
    "jupiterCallisto = hRatio(7e7, 3.5e4, 1.8e9, 1.4e6)\n",
    "saturnTitan = hRatio(5.8e7, 3.6e4, 1.2e9, 1.3e6)\n",
    "uranusOberon = hRatio(2.8e7, 6.2e4, 5.8e8, 1.2e6)\n",
    "\n",
    "print(\"Sun/Jupiter: %d\" % sunJupiter)\n",
    "print(\"Sun/Neptune: %d\" % sunNeptune)\n",
    "print(\"Jupiter/Io: %d\" % jupiterIo)\n",
    "print(\"Jupiter/Callisto: %d\" % jupiterCallisto)\n",
    "print(\"Saturn/Titan: %d\" % saturnTitan)\n",
    "print(\"Uranus/Oberon: %d\" % uranusOberon)"
   ]
  },
  {
   "cell_type": "markdown",
   "metadata": {
    "collapsed": true
   },
   "source": [
    "The extreme difference between the ratios highlight the peculiarity of angular momentum in the sun - planet systems. The sun is spinning far too slowly given the angular momentum of the planets. It captured most of the mass in the solar system, yet the planets have most of the angular momentum. The planet - moon systems make more sense, since the relatively massive planet has greater angular momentum than its moons."
   ]
  },
  {
   "cell_type": "markdown",
   "metadata": {},
   "source": [
    "## Exercise 2"
   ]
  },
  {
   "cell_type": "code",
   "execution_count": 31,
   "metadata": {
    "collapsed": true
   },
   "outputs": [],
   "source": [
    "def Δr1(r1, r2, Δr2):\n",
    "    return -(r1 / r2)**(1/2) * Δr2"
   ]
  },
  {
   "cell_type": "code",
   "execution_count": 51,
   "metadata": {},
   "outputs": [
    {
     "name": "stdout",
     "output_type": "stream",
     "text": [
      "Jupiter's migration: -10.41 AU\n",
      "Jupiter's energy loss: -1.00E+37 kg-m^2/s\n"
     ]
    }
   ],
   "source": [
    "# Constants\n",
    "G = 6.67408e-11  # Gravitational constant\n",
    "sun = 1.989e30   # Mass of Sun (kg)\n",
    "jup = 1.898e27   # Mass of Jupiter (kg)\n",
    "\n",
    "# Current semimajor axes (AU)\n",
    "jupCur = 5.2028\n",
    "satCur = 9.5388\n",
    "urnCur = 19.1914\n",
    "nepCur = 30.0611\n",
    "\n",
    "# Early semimajor axes (AU)\n",
    "jupEarly = 7.5\n",
    "satEarly = 9\n",
    "urnEarly = 12\n",
    "nepEarly = 15\n",
    "\n",
    "# Change in jupiter's orbit\n",
    "jupSat = Δr1(jupCur, satCur, satCur - satEarly)\n",
    "jupUrn = Δr1(jupCur, urnCur, urnCur - urnEarly)\n",
    "jupNep = Δr1(jupCur, nepCur, nepCur - nepEarly)\n",
    "jupTot = jupSat + jupUrn + jupNep\n",
    "\n",
    "print(\"Jupiter's migration: %.2f AU\" % jupTot)\n",
    "\n",
    "# Jupiter's loss of energy\n",
    "L1 = (G * sun * jupCur)**(1/2) * jup\n",
    "L2 = (G * sun * jupEarly)**(1/2) * jup\n",
    "\n",
    "print(\"Jupiter's energy loss: %.2E kg-m^2/s\" % (L1 - L2))"
   ]
  },
  {
   "cell_type": "markdown",
   "metadata": {},
   "source": [
    "I initially thought a 10.41 AU migration inward was absurdly large, but further research showed that Jupiter formed between 3 and 10 AU before migrating inwards to about 1.5 AU during the \"Grand Tack\". 10.41 AU is still a little big, but not unreasonably so if we're looking at the higher bound.\n",
    "\n",
    "https://www.nasa.gov/topics/solarsystem/features/young-jupiter.html - Grand Tack\n",
    "http://www.pnas.org/content/pnas/112/14/4214.full.pdf               - 3 to 10 AU range"
   ]
  }
 ],
 "metadata": {
  "kernelspec": {
   "display_name": "Python 3",
   "language": "python",
   "name": "python3"
  },
  "language_info": {
   "codemirror_mode": {
    "name": "ipython",
    "version": 3
   },
   "file_extension": ".py",
   "mimetype": "text/x-python",
   "name": "python",
   "nbconvert_exporter": "python",
   "pygments_lexer": "ipython3",
   "version": "3.6.3"
  }
 },
 "nbformat": 4,
 "nbformat_minor": 2
}
