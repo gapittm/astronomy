{
 "cells": [
  {
   "cell_type": "code",
   "execution_count": 236,
   "metadata": {},
   "outputs": [],
   "source": [
    "%matplotlib inline\n",
    "import matplotlib.pyplot as plt\n",
    "import matplotlib.ticker as ticker\n",
    "from numpy import linspace, exp, mean, log10"
   ]
  },
  {
   "cell_type": "code",
   "execution_count": 237,
   "metadata": {},
   "outputs": [],
   "source": [
    "# Constants\n",
    "c = 299792458\n",
    "h = 6.62607004E-34\n",
    "k = 1.38064852E-23"
   ]
  },
  {
   "cell_type": "markdown",
   "metadata": {},
   "source": [
    "## Exercise 1"
   ]
  },
  {
   "cell_type": "code",
   "execution_count": 238,
   "metadata": {},
   "outputs": [],
   "source": [
    "# Blackbody spectrum\n",
    "def B(λ, T):\n",
    "    return ((2 * h * c**2) / (λ**5)) / (exp((h * c) / (λ * k * T)) - 1)"
   ]
  },
  {
   "cell_type": "code",
   "execution_count": 239,
   "metadata": {},
   "outputs": [
    {
     "data": {
      "image/png": "[encoded data removed]",
      "text/plain": [
       "<matplotlib.figure.Figure at 0x225e93417b8>"
      ]
     },
     "metadata": {},
     "output_type": "display_data"
    }
   ],
   "source": [
    "# Plot for blackbody spectrum\n",
    "x = linspace(1.0E-7, 3.0E-6, 300)\n",
    "y = [B(x, 3000), B(x, 4000), B(x, 5000), B(x, 6000)]\n",
    "\n",
    "fig, ax = plt.subplots()\n",
    "ax.plot(x, y[0], color = 'C3')\n",
    "ax.plot(x, y[1], color = 'C1')\n",
    "ax.plot(x, y[2], color = 'C2')\n",
    "ax.plot(x, y[3], color = 'C0')\n",
    "ax.set_title(\"Blackbody Spectrum\")\n",
    "ax.set_xlabel(\"Wavelength (nanometers)\")\n",
    "ax.set_ylabel(\"Intensity (arbitrary)\")\n",
    "\n",
    "# Adjust the x axis scale to nanometers\n",
    "ticks = ticker.FuncFormatter(lambda x, pos: '{0:g}'.format(x / 1.0E-9))\n",
    "ax.xaxis.set_major_formatter(ticks)"
   ]
  },
  {
   "cell_type": "markdown",
   "metadata": {},
   "source": [
    "Compared to this figure, the one provided in the text seemed to have a slighly different shape. It appears that the peaks at each temperature are shifted a little too far right. Thus, the labeled temperatures should be lower than what is represented."
   ]
  },
  {
   "cell_type": "markdown",
   "metadata": {},
   "source": [
    "## Exercise 2"
   ]
  },
  {
   "cell_type": "code",
   "execution_count": 240,
   "metadata": {},
   "outputs": [
    {
     "name": "stdout",
     "output_type": "stream",
     "text": [
      "blue mean intensity: 2.81E+14\n",
      "visual mean intensity: 1.87E+14\n"
     ]
    }
   ],
   "source": [
    "# Bandwith of blue and visible filters\n",
    "b = [(445 - (94 / 2)) * 1.0E-9, (445 + (94 / 2)) * 1.0E-9]\n",
    "v = [(551 - (88 / 2)) * 1.0E-9, (551 + (88 / 2)) * 1.0E-9]\n",
    "bl = linspace(b[0], b[1], 300)\n",
    "vl = linspace(v[0], v[1], 300)\n",
    "\n",
    "# Mean intensity of a 10000K blackbody\n",
    "b10k = mean(B(bl, 10000))\n",
    "v10k = mean(B(vl, 10000))\n",
    "\n",
    "print(\"blue mean intensity: {:.2E}\".format(b10k))\n",
    "print(\"visual mean intensity: {:.2E}\".format(v10k))"
   ]
  },
  {
   "cell_type": "markdown",
   "metadata": {},
   "source": [
    "## Exercise 3"
   ]
  },
  {
   "cell_type": "code",
   "execution_count": 241,
   "metadata": {},
   "outputs": [
    {
     "name": "stdout",
     "output_type": "stream",
     "text": [
      "B-V for 5000K blackbody: 0.6429564654439961\n"
     ]
    }
   ],
   "source": [
    "# Mean intensity of a 5000K blackbody\n",
    "b5k = mean(B(bl, 5000))\n",
    "v5k = mean(B(vl, 5000))\n",
    "\n",
    "# Magnitude\n",
    "bm = -2.5 * log10((b5k / b10k))\n",
    "vm = -2.5 * log10((v5k / v10k))\n",
    "\n",
    "print(\"B-V for 5000K blackbody: {}\".format(bm - vm))"
   ]
  },
  {
   "cell_type": "code",
   "execution_count": 242,
   "metadata": {},
   "outputs": [
    {
     "name": "stdout",
     "output_type": "stream",
     "text": [
      "42000K: -0.4084291508625788\n",
      "30000K: -0.36546139273069933\n",
      "9790K: 0.013115667099622863\n",
      "7300K: 0.23245303636029746\n",
      "5940K: 0.4358810498185881\n",
      "5150K: 0.6048220497704726\n",
      "3840K: 1.036413283087521\n"
     ]
    }
   ],
   "source": [
    "# Repeat the above for the below temperatures\n",
    "temps = [42000, 30000, 9790, 7300, 5940, 5150, 3840]\n",
    "\n",
    "for i in range (0, len(temps)):\n",
    "    bXk = -2.5 * log10(mean(B(bl, temps[i])) / b10k)\n",
    "    vXk = -2.5 * log10(mean(B(vl, temps[i])) / v10k)\n",
    "    print(\"{}K: {}\".format(temps[i], bXk - vXk))"
   ]
  },
  {
   "cell_type": "markdown",
   "metadata": {},
   "source": [
    "The above numbers do not match the provided table, but are within the realm of reason. Medium temperatures are typically close, high temperatures are not too far off, and low temperatures vary more wildly. This could be due to using different references for each table."
   ]
  },
  {
   "cell_type": "code",
   "execution_count": null,
   "metadata": {
    "collapsed": true
   },
   "outputs": [],
   "source": []
  }
 ],
 "metadata": {
  "kernelspec": {
   "display_name": "Python 3",
   "language": "python",
   "name": "python3"
  },
  "language_info": {
   "codemirror_mode": {
    "name": "ipython",
    "version": 3
   },
   "file_extension": ".py",
   "mimetype": "text/x-python",
   "name": "python",
   "nbconvert_exporter": "python",
   "pygments_lexer": "ipython3",
   "version": "3.6.3"
  }
 },
 "nbformat": 4,
 "nbformat_minor": 2
}
